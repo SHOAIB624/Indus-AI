{
 "cells": [
  {
   "cell_type": "markdown",
   "metadata": {},
   "source": [
    "# Chapter 35 pick information out of a list of dictionaries"
   ]
  },
  {
   "cell_type": "code",
   "execution_count": 19,
   "metadata": {},
   "outputs": [
    {
     "data": {
      "text/plain": [
       "'2101'"
      ]
     },
     "execution_count": 19,
     "metadata": {},
     "output_type": "execute_result"
    }
   ],
   "source": [
    "Students = [ \n",
    "    {\n",
    "        'FirstName': 'Umair',\n",
    "        'LastName': 'Bajwa',\n",
    "        'ID': '2101'\n",
    "    },\n",
    "    \n",
    "{\n",
    "    'FirstName': 'Asad',\n",
    "    'LastName': 'Ikhlas',\n",
    "    'ID': '2030'\n",
    "},\n",
    "]\n",
    "Students\n",
    "a = Students[0]\n",
    "Students_ID = a['ID']\n",
    "\n",
    "Students_ID\n",
    "\n"
   ]
  },
  {
   "cell_type": "code",
   "execution_count": null,
   "metadata": {},
   "outputs": [],
   "source": []
  },
  {
   "cell_type": "code",
   "execution_count": null,
   "metadata": {},
   "outputs": [],
   "source": []
  }
 ],
 "metadata": {
  "kernelspec": {
   "display_name": "Python 3",
   "language": "python",
   "name": "python3"
  },
  "language_info": {
   "codemirror_mode": {
    "name": "ipython",
    "version": 3
   },
   "file_extension": ".py",
   "mimetype": "text/x-python",
   "name": "python",
   "nbconvert_exporter": "python",
   "pygments_lexer": "ipython3",
   "version": "3.6.5"
  }
 },
 "nbformat": 4,
 "nbformat_minor": 2
}
