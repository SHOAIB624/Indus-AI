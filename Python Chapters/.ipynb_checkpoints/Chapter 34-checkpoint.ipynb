{
 "cells": [
  {
   "cell_type": "markdown",
   "metadata": {},
   "source": [
    "# Chapter 34 Creating a List of Dictionaries"
   ]
  },
  {
   "cell_type": "code",
   "execution_count": 4,
   "metadata": {},
   "outputs": [
    {
     "data": {
      "text/plain": [
       "[{'FirstName': 'Umair', 'LastName': 'Bajwa', 'ID': '2101'},\n",
       " {'FirstName': 'Asad', 'LastName': 'Ikhlas', 'ID': '2030'}]"
      ]
     },
     "execution_count": 4,
     "metadata": {},
     "output_type": "execute_result"
    }
   ],
   "source": [
    "Students = [ \n",
    "    {\n",
    "        'FirstName': 'Umair',\n",
    "        'LastName': 'Bajwa',\n",
    "        'ID': '2101'\n",
    "    },\n",
    "    \n",
    "{\n",
    "    'FirstName': 'Asad',\n",
    "    'LastName': 'Ikhlas',\n",
    "    'ID': '2030'\n",
    "},\n",
    "]\n",
    "Students\n"
   ]
  },
  {
   "cell_type": "code",
   "execution_count": null,
   "metadata": {},
   "outputs": [],
   "source": []
  },
  {
   "cell_type": "code",
   "execution_count": null,
   "metadata": {},
   "outputs": [],
   "source": []
  }
 ],
 "metadata": {
  "kernelspec": {
   "display_name": "Python 3",
   "language": "python",
   "name": "python3"
  },
  "language_info": {
   "codemirror_mode": {
    "name": "ipython",
    "version": 3
   },
   "file_extension": ".py",
   "mimetype": "text/x-python",
   "name": "python",
   "nbconvert_exporter": "python",
   "pygments_lexer": "ipython3",
   "version": "3.6.5"
  }
 },
 "nbformat": 4,
 "nbformat_minor": 2
}
